{
 "cells": [
  {
   "cell_type": "markdown",
   "metadata": {},
   "source": [
    "# Multinomial Logistic Regression"
   ]
  },
  {
   "cell_type": "code",
   "execution_count": 1,
   "metadata": {},
   "outputs": [],
   "source": [
    "# Import libraries\n",
    "\n",
    "import sklearn\n",
    "import numpy as np"
   ]
  },
  {
   "cell_type": "code",
   "execution_count": 15,
   "metadata": {},
   "outputs": [
    {
     "name": "stdout",
     "output_type": "stream",
     "text": [
      ".. _iris_dataset:\n",
      "\n",
      "Iris plants dataset\n",
      "--------------------\n",
      "\n",
      "**Data Set Characteristics:**\n",
      "\n",
      "    :Number of Instances: 150 (50 in each of three classes)\n",
      "    :Number of Attributes: 4 numeric, predictive attributes and the class\n",
      "    :Attribute Information:\n",
      "        - sepal length in cm\n",
      "        - sepal width in cm\n",
      "        - petal length in cm\n",
      "        - petal width in cm\n",
      "        - class:\n",
      "                - Iris-Setosa\n",
      "                - Iris-Versicolour\n",
      "                - Iris-Virginica\n",
      "                \n",
      "    :Summary Statistics:\n",
      "\n",
      "    ============== ==== ==== ======= ===== ====================\n",
      "                    Min  Max   Mean    SD   Class Correlation\n",
      "    ============== ==== ==== ======= ===== ====================\n",
      "    sepal length:   4.3  7.9   5.84   0.83    0.7826\n",
      "    sepal width:    2.0  4.4   3.05   0.43   -0.4194\n",
      "    petal length:   1.0  6.9   3.76   1.76    0.9490  (high!)\n",
      "    petal width:    0.1  2.5   1.20   0.76    0.9565  (high!)\n",
      "    ============== ==== ==== ======= ===== ====================\n",
      "\n",
      "    :Missing Attribute Values: None\n",
      "    :Class Distribution: 33.3% for each of 3 classes.\n",
      "    :Creator: R.A. Fisher\n",
      "    :Donor: Michael Marshall (MARSHALL%PLU@io.arc.nasa.gov)\n",
      "    :Date: July, 1988\n",
      "\n",
      "The famous Iris database, first used by Sir R.A. Fisher. The dataset is taken\n",
      "from Fisher's paper. Note that it's the same as in R, but not as in the UCI\n",
      "Machine Learning Repository, which has two wrong data points.\n",
      "\n",
      "This is perhaps the best known database to be found in the\n",
      "pattern recognition literature.  Fisher's paper is a classic in the field and\n",
      "is referenced frequently to this day.  (See Duda & Hart, for example.)  The\n",
      "data set contains 3 classes of 50 instances each, where each class refers to a\n",
      "type of iris plant.  One class is linearly separable from the other 2; the\n",
      "latter are NOT linearly separable from each other.\n",
      "\n",
      ".. topic:: References\n",
      "\n",
      "   - Fisher, R.A. \"The use of multiple measurements in taxonomic problems\"\n",
      "     Annual Eugenics, 7, Part II, 179-188 (1936); also in \"Contributions to\n",
      "     Mathematical Statistics\" (John Wiley, NY, 1950).\n",
      "   - Duda, R.O., & Hart, P.E. (1973) Pattern Classification and Scene Analysis.\n",
      "     (Q327.D83) John Wiley & Sons.  ISBN 0-471-22361-1.  See page 218.\n",
      "   - Dasarathy, B.V. (1980) \"Nosing Around the Neighborhood: A New System\n",
      "     Structure and Classification Rule for Recognition in Partially Exposed\n",
      "     Environments\".  IEEE Transactions on Pattern Analysis and Machine\n",
      "     Intelligence, Vol. PAMI-2, No. 1, 67-71.\n",
      "   - Gates, G.W. (1972) \"The Reduced Nearest Neighbor Rule\".  IEEE Transactions\n",
      "     on Information Theory, May 1972, 431-433.\n",
      "   - See also: 1988 MLC Proceedings, 54-64.  Cheeseman et al\"s AUTOCLASS II\n",
      "     conceptual clustering system finds 3 classes in the data.\n",
      "   - Many, many more ...\n"
     ]
    }
   ],
   "source": [
    "# Import Dataset\n",
    "from sklearn.datasets import load_iris\n",
    "\n",
    "dataset = load_iris()\n",
    "print(dataset['DESCR'])"
   ]
  },
  {
   "cell_type": "code",
   "execution_count": 21,
   "metadata": {},
   "outputs": [],
   "source": [
    "from sklearn.model_selection import train_test_split\n",
    "\n",
    "features = dataset.data\n",
    "target = dataset.target\n",
    "\n",
    "X_train,X_test, y_train,y_test = train_test_split(features,target,test_size=0.20,random_state=123)"
   ]
  },
  {
   "cell_type": "code",
   "execution_count": 451,
   "metadata": {},
   "outputs": [
    {
     "name": "stderr",
     "output_type": "stream",
     "text": [
      "/Users/juanelgueta/multinomial-logistic-regression/venv/lib/python3.9/site-packages/seaborn/_decorators.py:36: FutureWarning: Pass the following variable as a keyword arg: x. From version 0.12, the only valid positional argument will be `data`, and passing other arguments without an explicit keyword will result in an error or misinterpretation.\n",
      "  warnings.warn(\n"
     ]
    },
    {
     "data": {
      "image/png": "[encoded data removed]",
      "text/plain": [
       "<Figure size 432x288 with 1 Axes>"
      ]
     },
     "metadata": {
      "needs_background": "light"
     },
     "output_type": "display_data"
    }
   ],
   "source": [
    "import seaborn as sns\n",
    "import matplotlib.pyplot as plt\n",
    "\n",
    "x=sns.countplot(target)\n",
    "plt.savefig(\"target-distribution.png\")\n"
   ]
  },
  {
   "cell_type": "code",
   "execution_count": 97,
   "metadata": {},
   "outputs": [
    {
     "data": {
      "text/plain": [
       "(120, 4)"
      ]
     },
     "execution_count": 97,
     "metadata": {},
     "output_type": "execute_result"
    }
   ],
   "source": [
    "X_train.shape"
   ]
  },
  {
   "cell_type": "code",
   "execution_count": 428,
   "metadata": {},
   "outputs": [],
   "source": [
    "class LogisticRegressor(object):\n",
    "    \"\"\"\n",
    "    Logistic Regression Classifier\n",
    "\n",
    "    Parameters\n",
    "    ----------\n",
    "    learning_rate : int or float, default=0.1\n",
    "        The tuning parameter for the optimization algorithm (here, Gradient Descent) \n",
    "        that determines the step size at each iteration while moving toward a minimum \n",
    "        of the cost function.\n",
    "\n",
    "    max_iter : int, default=100\n",
    "        Maximum number of iterations taken for the optimization algorithm to converge\n",
    "    \n",
    "    regularization : None or 'l2', default='l2'.\n",
    "        Option to perform L2 regularization.\n",
    "        \n",
    "    C : float, default=0.1\n",
    "        Inverse of regularization strength; must be a positive float. \n",
    "        Smaller values specify stronger regularization.\n",
    "\n",
    "    tolerance : float, optional, default=1e-4\n",
    "        Value indicating the weight change between epochs in which\n",
    "        gradient descent should terminated. \n",
    "    \"\"\"\n",
    "\n",
    "    def __init__(self, learning_rate=0.01, max_iter=1000, regularization='l2', C = 0.01, tolerance = 1e-4):\n",
    "        self.learning_rate  = learning_rate\n",
    "        self.max_iter       = max_iter\n",
    "        self.regularization = regularization\n",
    "        self.C              = C\n",
    "        self.tolerance      = tolerance\n",
    "    \n",
    "    def fit(self, X, y):\n",
    "        \"\"\"\n",
    "        Fit model to training data.\n",
    "\n",
    "        Parameters\n",
    "        ----------\n",
    "        X : array-like, sparse matrix of shape (m, n)\n",
    "            Training vector, where m is the number of samples and\n",
    "            n is the number of features.\n",
    "        y : array-like of shape (m,)\n",
    "            Target variable for model.\n",
    "        \n",
    "        Returns\n",
    "        -------\n",
    "        self : object\n",
    "        \"\"\"\n",
    "\n",
    "        y_onehot = self.onehot_encode(y)\n",
    "\n",
    "        self.loss_steps, self.W = self.gradient_descent(X,y_onehot,self.max_iter,self.learning_rate,self.C,self.tolerance)\n",
    "                \n",
    "        return self\n",
    "\n",
    "    def onehot_encode(self,Y):\n",
    "        \"\"\"\n",
    "        One hot encode categorical values\n",
    "        \n",
    "        Parameters\n",
    "        ----------\n",
    "            Y : array-like \n",
    "                categorical values to encode.\n",
    "        \n",
    "        Returns\n",
    "        -------\n",
    "        np.array of shape (m, n) \n",
    "        where m is the lenght of the original array and m the total number of categories.\n",
    "\n",
    "        \"\"\"\n",
    "        unique_vals = np.unique(Y)\n",
    "        \n",
    "        one_hot_encode = []\n",
    "\n",
    "        for i in Y:\n",
    "            arr = list(np.zeros(len(unique_vals), dtype = int))\n",
    "            arr[i] = 1\n",
    "            one_hot_encode.append(arr)\n",
    "\n",
    "        return np.array(one_hot_encode)\n",
    "\n",
    "    def softmax(self,x):\n",
    "        \"\"\"\n",
    "        Compute softmax values for each sets of scores in x.\n",
    "        Softmax takes as input a vector of real numbers, and normalizes it into a probability distribution.\n",
    "\n",
    "        Parameters\n",
    "        ------------\n",
    "\n",
    "        x : array_like\n",
    "            Vector over which to apply softmax function\n",
    "\n",
    "        Returns\n",
    "        ------------\n",
    "        np.array values for probability distribution, the result will sum to 1 along the specified axis\n",
    "        \"\"\"\n",
    "        e_x = np.exp(x - np.max(x))\n",
    "        return e_x / e_x.sum()\n",
    "\n",
    "    def loss(self,X, Y, W):\n",
    "        \"\"\"\n",
    "        loss function for multinomial logistic regression. \n",
    "        Used to determine the error between predicted values and target values.\n",
    "\n",
    "        Parameters\n",
    "        ----------\n",
    "        X : Feature vector.\n",
    "        Y : Array-like onehot encoded target values.\n",
    "        W : Weights.\n",
    "\n",
    "        Returns\n",
    "        ----------\n",
    "        loss: float \n",
    "            error between predicted values and target values.\n",
    "\n",
    "        \"\"\"\n",
    "        Z = - X @ W\n",
    "        N = X.shape[0]\n",
    "        loss = 1/N * (np.trace(X @ W @ Y.T) + np.sum(np.log(np.sum(np.exp(Z), axis=1))))\n",
    "        return loss\n",
    "\n",
    "    def gradient(self,X, Y, W, C):\n",
    "        \"\"\"\n",
    "        Gradient over which to apply gradient descent.\n",
    "        Objective function of the model.\n",
    "\n",
    "        Parameters\n",
    "        ----------\n",
    "        X : Feature vector.\n",
    "        Y : Array-like onehot encoded target values.\n",
    "        W : Weights.\n",
    "        C : Regularization penalty.\n",
    "\n",
    "        Returns\n",
    "        ----------\n",
    "        gd : np.array\n",
    "            output value of the function evaluated at params.         \n",
    "        \"\"\"\n",
    "        Z = - X @ W\n",
    "        P = np.apply_along_axis(self.softmax,1,Z)\n",
    "        N = X.shape[0]\n",
    "        gd = 1/N * (X.T @ (Y - P)) + 2 * C * W\n",
    "        return gd\n",
    "\n",
    "    def gradient_descent(self,X, Y, max_iter=10000, learning_rate=0.01, C=0.01, tolerance=1e-06):\n",
    "        \"\"\"\n",
    "        loss function for multinomial logistic regression. \n",
    "        Used to determine the error between predicted values and target values.\n",
    "\n",
    "        Parameters\n",
    "        ----------\n",
    "        learning_rate : int or float, default=0.1\n",
    "            The tuning parameter for the optimization algorithm (here, Gradient Descent) \n",
    "            that determines the step size at each iteration while moving toward a minimum \n",
    "            of the cost function.\n",
    "        max_iter : int, default=100\n",
    "            Maximum number of iterations taken for the optimization algorithm to converge\n",
    "        regularization : None or 'l2', default='l2'.\n",
    "            Option to perform L2 regularization. \n",
    "        C : float, default=0.1\n",
    "            Inverse of regularization strength; must be a positive float. \n",
    "            Smaller values specify stronger regularization.\n",
    "        tolerance : float, optional, default=1e-4\n",
    "            Value indicating the weight change between epochs in which\n",
    "            gradient descent should terminated. \n",
    "\n",
    "        Returns\n",
    "        ----------\n",
    "        df : dict \n",
    "        W : np.array\n",
    "\n",
    "\n",
    "        \"\"\"\n",
    "        W = np.zeros((X.shape[1], Y.shape[1]))\n",
    "        step = 0\n",
    "        step_lst = [] \n",
    "        loss_lst = []\n",
    "        W_lst = []\n",
    "    \n",
    "        while step < max_iter:\n",
    "            step += 1\n",
    "            W -= learning_rate * self.gradient(X, Y, W, C)\n",
    "            step_lst.append(step)\n",
    "            W_lst.append(W)\n",
    "            if np.all(np.abs(W) <= tolerance):\n",
    "                break\n",
    "            loss_lst.append(self.loss(X, Y, W))\n",
    "\n",
    "        df = {\n",
    "            'step': step_lst, \n",
    "            'loss': loss_lst\n",
    "        }\n",
    "\n",
    "        return df, W\n",
    "        \n",
    "    def predict_proba(self, X):\n",
    "        \"\"\"\n",
    "        Probability estimates for samples in X.\n",
    "        Parameters\n",
    "        ----------\n",
    "        X : array-like of shape (n_samples, n_features)\n",
    "            Vector to be scored, where `n_samples` is the number of samples and\n",
    "            `n_features` is the number of features.\n",
    "        Returns\n",
    "        -------\n",
    "        probs : array-like of shape (n_samples,)\n",
    "            Returns the probability of each sample.\n",
    "        \"\"\"\n",
    "        \n",
    "        return np.apply_along_axis(self.softmax,1,- X @ self.W)\n",
    "    \n",
    "    def predict(self, X):\n",
    "        \"\"\"\n",
    "        Predict class labels for samples in X.\n",
    "        Parameters\n",
    "        ----------\n",
    "        X : array_like or sparse matrix, shape (n_samples, n_features)\n",
    "            Samples.\n",
    "        Returns\n",
    "        -------\n",
    "        labels : array, shape [n_samples]\n",
    "            Predicted class label per sample.\n",
    "        \"\"\"\n",
    "\n",
    "        return np.argmax(self.predict_proba(X), axis=1)\n",
    "    \n"
   ]
  },
  {
   "cell_type": "code",
   "execution_count": 436,
   "metadata": {},
   "outputs": [
    {
     "data": {
      "text/plain": [
       "<__main__.LogisticRegressor at 0x12eeca490>"
      ]
     },
     "execution_count": 436,
     "metadata": {},
     "output_type": "execute_result"
    }
   ],
   "source": [
    "my_model = LogisticRegressor(learning_rate=0.1)\n",
    "my_model.fit(X_train,y_train)"
   ]
  },
  {
   "cell_type": "code",
   "execution_count": 437,
   "metadata": {},
   "outputs": [
    {
     "data": {
      "text/plain": [
       "array([1, 2, 2, 1, 0, 2, 1, 0, 0, 1, 2, 0, 1, 2, 2, 2, 0, 0, 1, 0, 0, 2,\n",
       "       0, 2, 0, 0, 0, 2, 2, 0])"
      ]
     },
     "execution_count": 437,
     "metadata": {},
     "output_type": "execute_result"
    }
   ],
   "source": [
    "my_model.predict(X_test) "
   ]
  },
  {
   "cell_type": "code",
   "execution_count": 439,
   "metadata": {},
   "outputs": [
    {
     "data": {
      "text/plain": [
       "array([ True,  True,  True,  True,  True,  True,  True,  True,  True,\n",
       "        True,  True,  True,  True,  True,  True,  True,  True,  True,\n",
       "        True,  True,  True,  True,  True,  True,  True,  True,  True,\n",
       "        True,  True,  True])"
      ]
     },
     "execution_count": 439,
     "metadata": {},
     "output_type": "execute_result"
    }
   ],
   "source": [
    "my_model.predict(X_test) == y_test"
   ]
  },
  {
   "cell_type": "code",
   "execution_count": 440,
   "metadata": {},
   "outputs": [
    {
     "data": {
      "image/png": "[encoded data removed]",
      "text/plain": [
       "<Figure size 432x288 with 1 Axes>"
      ]
     },
     "metadata": {
      "needs_background": "light"
     },
     "output_type": "display_data"
    }
   ],
   "source": [
    "import matplotlib.pyplot as plt\n",
    "\n",
    "plt.plot(my_model.loss_steps['loss'])\n",
    "plt.show()"
   ]
  },
  {
   "cell_type": "code",
   "execution_count": 445,
   "metadata": {},
   "outputs": [
    {
     "name": "stdout",
     "output_type": "stream",
     "text": [
      "              precision    recall  f1-score   support\n",
      "\n",
      "           0       1.00      1.00      1.00        13\n",
      "           1       1.00      1.00      1.00         6\n",
      "           2       1.00      1.00      1.00        11\n",
      "\n",
      "    accuracy                           1.00        30\n",
      "   macro avg       1.00      1.00      1.00        30\n",
      "weighted avg       1.00      1.00      1.00        30\n",
      "\n"
     ]
    }
   ],
   "source": [
    "from sklearn.metrics import classification_report\n",
    "\n",
    "\n",
    "print(classification_report(y_true=y_test, y_pred=my_model.predict(X_test)))"
   ]
  },
  {
   "cell_type": "code",
   "execution_count": 434,
   "metadata": {},
   "outputs": [
    {
     "name": "stderr",
     "output_type": "stream",
     "text": [
      "/Users/juanelgueta/multinomial-logistic-regression/venv/lib/python3.9/site-packages/sklearn/linear_model/_logistic.py:814: ConvergenceWarning: lbfgs failed to converge (status=1):\n",
      "STOP: TOTAL NO. of ITERATIONS REACHED LIMIT.\n",
      "\n",
      "Increase the number of iterations (max_iter) or scale the data as shown in:\n",
      "    https://scikit-learn.org/stable/modules/preprocessing.html\n",
      "Please also refer to the documentation for alternative solver options:\n",
      "    https://scikit-learn.org/stable/modules/linear_model.html#logistic-regression\n",
      "  n_iter_i = _check_optimize_result(\n"
     ]
    },
    {
     "data": {
      "text/plain": [
       "LogisticRegression()"
      ]
     },
     "execution_count": 434,
     "metadata": {},
     "output_type": "execute_result"
    }
   ],
   "source": [
    "from sklearn.linear_model import LogisticRegression\n",
    "\n",
    "logreg = LogisticRegression()\n",
    "logreg.fit(X_train, y_train)"
   ]
  },
  {
   "cell_type": "code",
   "execution_count": 435,
   "metadata": {},
   "outputs": [
    {
     "data": {
      "text/plain": [
       "array([ True,  True,  True,  True,  True,  True,  True,  True,  True,\n",
       "        True,  True,  True,  True,  True,  True,  True,  True,  True,\n",
       "        True,  True,  True,  True,  True,  True,  True,  True,  True,\n",
       "        True,  True,  True])"
      ]
     },
     "execution_count": 435,
     "metadata": {},
     "output_type": "execute_result"
    }
   ],
   "source": [
    "logreg.predict(X_test) == y_test"
   ]
  },
  {
   "cell_type": "code",
   "execution_count": 446,
   "metadata": {},
   "outputs": [
    {
     "name": "stdout",
     "output_type": "stream",
     "text": [
      "              precision    recall  f1-score   support\n",
      "\n",
      "           0       1.00      1.00      1.00        13\n",
      "           1       1.00      1.00      1.00         6\n",
      "           2       1.00      1.00      1.00        11\n",
      "\n",
      "    accuracy                           1.00        30\n",
      "   macro avg       1.00      1.00      1.00        30\n",
      "weighted avg       1.00      1.00      1.00        30\n",
      "\n"
     ]
    }
   ],
   "source": [
    "print(classification_report(y_true=y_test,y_pred=logreg.predict(X_test)))"
   ]
  },
  {
   "cell_type": "code",
   "execution_count": null,
   "metadata": {},
   "outputs": [],
   "source": []
  }
 ],
 "metadata": {
  "interpreter": {
   "hash": "3f7c262b4a8f606124cff9aa4d990aa1371a809f5e3e7aa47bd4b6d010df1044"
  },
  "kernelspec": {
   "display_name": "Python 3.9.6 ('venv': venv)",
   "language": "python",
   "name": "python3"
  },
  "language_info": {
   "codemirror_mode": {
    "name": "ipython",
    "version": 3
   },
   "file_extension": ".py",
   "mimetype": "text/x-python",
   "name": "python",
   "nbconvert_exporter": "python",
   "pygments_lexer": "ipython3",
   "version": "3.9.6"
  },
  "orig_nbformat": 4
 },
 "nbformat": 4,
 "nbformat_minor": 2
}
